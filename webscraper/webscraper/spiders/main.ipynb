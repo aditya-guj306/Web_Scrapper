{
 "cells": [
  {
   "cell_type": "code",
   "execution_count": 11,
   "metadata": {},
   "outputs": [
    {
     "name": "stdout",
     "output_type": "stream",
     "text": [
      "<coroutine object process_page at 0x0000024A35E7E640>\n"
     ]
    },
    {
     "name": "stderr",
     "output_type": "stream",
     "text": [
      "C:\\Users\\adity\\AppData\\Local\\Temp\\ipykernel_12216\\3197306824.py:19: RuntimeWarning: coroutine 'process_page' was never awaited\n",
      "  print(process_page(browser, url))\n",
      "RuntimeWarning: Enable tracemalloc to get the object allocation traceback\n"
     ]
    }
   ],
   "source": [
    "from pyppeteer_stealth import stealth\n",
    "url=\"https://books.toscrape.com/catalogue/a-light-in-the-attic_1000/index.html\"\n",
    "browser=\"www.google.com\"\n",
    "async def process_page(browser, url):\n",
    "    page = await browser.new_page()\n",
    "    await stealth(page)\n",
    "    print(f\"Processing {url}\", flush=True)\n",
    "    await page.goto(url)\n",
    "    try:\n",
    "        await page.wait_for_load_state(\"networkidle\", timeout=5000)\n",
    "    except Exception as e:\n",
    "        pass  # If we timeout, just continue\n",
    "\n",
    "    html = await page.content()\n",
    "    links = await page.eval_on_selector_all(\"a\", \"as => as.map(a => a.href)\")\n",
    "\n",
    "    await page.close()\n",
    "    return {\"html\": html, \"links\": links}\n",
    "print(process_page(browser, url))"
   ]
  }
 ],
 "metadata": {
  "kernelspec": {
   "display_name": "venv",
   "language": "python",
   "name": "python3"
  },
  "language_info": {
   "codemirror_mode": {
    "name": "ipython",
    "version": 3
   },
   "file_extension": ".py",
   "mimetype": "text/x-python",
   "name": "python",
   "nbconvert_exporter": "python",
   "pygments_lexer": "ipython3",
   "version": "3.11.1"
  }
 },
 "nbformat": 4,
 "nbformat_minor": 2
}
